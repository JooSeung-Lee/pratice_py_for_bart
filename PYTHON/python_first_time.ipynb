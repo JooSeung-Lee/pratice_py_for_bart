{
  "nbformat": 4,
  "nbformat_minor": 0,
  "metadata": {
    "colab": {
      "provenance": [],
      "toc_visible": true,
      "authorship_tag": "ABX9TyMcFK3hUp1m/2NPLrHB4eB7",
      "include_colab_link": true
    },
    "kernelspec": {
      "name": "python3",
      "display_name": "Python 3"
    },
    "language_info": {
      "name": "python"
    }
  },
  "cells": [
    {
      "cell_type": "markdown",
      "metadata": {
        "id": "view-in-github",
        "colab_type": "text"
      },
      "source": [
        "<a href=\"https://colab.research.google.com/github/JooSeung-Lee/pratice_py_for_bart/blob/main/PYTHON/python_first_time.ipynb\" target=\"_parent\"><img src=\"https://colab.research.google.com/assets/colab-badge.svg\" alt=\"Open In Colab\"/></a>"
      ]
    },
    {
      "cell_type": "code",
      "execution_count": 2,
      "metadata": {
        "colab": {
          "base_uri": "https://localhost:8080/"
        },
        "id": "KbPuIHKyLAFF",
        "outputId": "fc899d95-7cff-497e-ad65-3641da2446b9"
      },
      "outputs": [
        {
          "output_type": "stream",
          "name": "stdout",
          "text": [
            "579\n",
            "15129\n"
          ]
        }
      ],
      "source": [
        "a = 123\n",
        "b = 456\n",
        "print(a+b)\n",
        "print(a**2)"
      ]
    },
    {
      "cell_type": "code",
      "source": [
        "print(a*b)"
      ],
      "metadata": {
        "colab": {
          "base_uri": "https://localhost:8080/"
        },
        "id": "8a32C845NzXx",
        "outputId": "234a0947-8005-4df5-e4d3-287f278addb1"
      },
      "execution_count": 3,
      "outputs": [
        {
          "output_type": "stream",
          "name": "stdout",
          "text": [
            "56088\n"
          ]
        }
      ]
    },
    {
      "cell_type": "code",
      "source": [],
      "metadata": {
        "id": "mlUXVHg3N9v_"
      },
      "execution_count": null,
      "outputs": []
    },
    {
      "cell_type": "markdown",
      "source": [
        "#제목1"
      ],
      "metadata": {
        "id": "q8OwKxwHOGb4"
      }
    },
    {
      "cell_type": "markdown",
      "source": [
        "##제목2"
      ],
      "metadata": {
        "id": "K0TeATgcOX8m"
      }
    },
    {
      "cell_type": "code",
      "source": [],
      "metadata": {
        "id": "Ha7AieEZOZjr"
      },
      "execution_count": null,
      "outputs": []
    },
    {
      "cell_type": "markdown",
      "source": [
        "**이주승**\n",
        "- 남자\n",
        "- 21학번\n"
      ],
      "metadata": {
        "id": "Ft4cshk7LWbo"
      }
    }
  ]
}