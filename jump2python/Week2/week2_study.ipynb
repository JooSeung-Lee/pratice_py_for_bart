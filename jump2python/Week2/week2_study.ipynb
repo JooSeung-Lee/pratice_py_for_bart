{
  "nbformat": 4,
  "nbformat_minor": 0,
  "metadata": {
    "colab": {
      "provenance": [],
      "authorship_tag": "ABX9TyM9npSk3pgffw0ghbXsSSTP",
      "include_colab_link": true
    },
    "kernelspec": {
      "name": "python3",
      "display_name": "Python 3"
    },
    "language_info": {
      "name": "python"
    }
  },
  "cells": [
    {
      "cell_type": "markdown",
      "metadata": {
        "id": "view-in-github",
        "colab_type": "text"
      },
      "source": [
        "<a href=\"https://colab.research.google.com/github/JooSeung-Lee/pratice_py_for_bart/blob/main/jump2python/Week2/week2_study.ipynb\" target=\"_parent\"><img src=\"https://colab.research.google.com/assets/colab-badge.svg\" alt=\"Open In Colab\"/></a>"
      ]
    },
    {
      "cell_type": "markdown",
      "source": [
        "##프로그래밍의 기초, 자료형\n",
        "\n",
        "---\n",
        "\n",
        "2주차 스터디에서는 숫자형과 문자열형을 공부할 것이다."
      ],
      "metadata": {
        "id": "SrDSlSL6I9ZH"
      }
    },
    {
      "cell_type": "markdown",
      "source": [
        "####숫자형\n",
        "숫자형(Number)이란 숫자 형태로 이루어진 자료형이다.\n",
        "- 정수형(Integer): 123, -345, 0\n",
        "- 실수형(Floating-point): 123.45, -1234.5, 3.4e10\n",
        "- 8진수(Octal): 0o34, 0o25\n",
        "- 16진수(Hexadecimal): 0x2A, 0xFF"
      ],
      "metadata": {
        "id": "QYJsz72BKCdd"
      }
    },
    {
      "cell_type": "code",
      "source": [
        "#정수형\n",
        "a = 123\n",
        "print(a)"
      ],
      "metadata": {
        "colab": {
          "base_uri": "https://localhost:8080/"
        },
        "id": "aO07D8TdJvmD",
        "outputId": "e53f9207-51f9-4141-c64d-6e06cdfd27e1"
      },
      "execution_count": 4,
      "outputs": [
        {
          "output_type": "stream",
          "name": "stdout",
          "text": [
            "123\n"
          ]
        }
      ]
    },
    {
      "cell_type": "code",
      "source": [
        "#실수형\n",
        "a = 4.24E10\n",
        "print(a)\n",
        "b = 2.24e-10\n",
        "print(b)\n",
        "print(type(b))"
      ],
      "metadata": {
        "colab": {
          "base_uri": "https://localhost:8080/"
        },
        "id": "VsvllyyLLdSK",
        "outputId": "649fa30b-d721-4a02-ecfb-bd2668c802fa"
      },
      "execution_count": 7,
      "outputs": [
        {
          "output_type": "stream",
          "name": "stdout",
          "text": [
            "42400000000.0\n",
            "2.24e-10\n",
            "<class 'float'>\n"
          ]
        }
      ]
    },
    {
      "cell_type": "code",
      "source": [
        "#8진수\n",
        "a = 0o177\n",
        "print(a)"
      ],
      "metadata": {
        "colab": {
          "base_uri": "https://localhost:8080/"
        },
        "id": "OplqSn13Mfpa",
        "outputId": "9a481bc5-7cef-4d39-9549-92c5694d7722"
      },
      "execution_count": 8,
      "outputs": [
        {
          "output_type": "stream",
          "name": "stdout",
          "text": [
            "127\n"
          ]
        }
      ]
    },
    {
      "cell_type": "code",
      "source": [
        "#16진수\n",
        "a = 0x8ff\n",
        "b = 0xABC\n",
        "print(a)\n",
        "print(b)"
      ],
      "metadata": {
        "colab": {
          "base_uri": "https://localhost:8080/"
        },
        "id": "rWwz8SC0MsCS",
        "outputId": "66ff6c9d-333f-4f4b-cd5d-0909541d20e2"
      },
      "execution_count": 9,
      "outputs": [
        {
          "output_type": "stream",
          "name": "stdout",
          "text": [
            "2303\n",
            "2748\n"
          ]
        }
      ]
    },
    {
      "cell_type": "markdown",
      "source": [
        "####숫자형 활용 연산자\n",
        "- 사칙연산(+, -, *, /)\n",
        "- 제곱 연산자(**)\n",
        "- 나머지 연산자(%)\n",
        "- 몫 연산자(//)"
      ],
      "metadata": {
        "id": "eavcKUf5M5tm"
      }
    },
    {
      "cell_type": "code",
      "source": [
        "#사칙연산"
      ],
      "metadata": {
        "id": "3QPHiTBMONlc"
      },
      "execution_count": null,
      "outputs": []
    }
  ]
}